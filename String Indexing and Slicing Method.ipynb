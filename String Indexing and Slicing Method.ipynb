{
 "cells": [
  {
   "cell_type": "markdown",
   "id": "b73bd9d4",
   "metadata": {},
   "source": [
    "## String Indexing and Slicing Method"
   ]
  },
  {
   "cell_type": "markdown",
   "id": "f6b08f31",
   "metadata": {},
   "source": [
    "### Type Casting"
   ]
  },
  {
   "cell_type": "code",
   "execution_count": 8,
   "id": "9fb796b4",
   "metadata": {},
   "outputs": [
    {
     "name": "stdout",
     "output_type": "stream",
     "text": [
      "b\n",
      "d\n",
      "bdul waheed\n",
      "abdul wahe\n",
      "adlwhe\n",
      "auwe\n",
      "dea ub\n",
      "dh d\n",
      "ul waheed\n",
      "ul waheed\n",
      "bu a\n"
     ]
    }
   ],
   "source": [
    "name = \"abdul waheed\"\n",
    "\n",
    "print(name[1])\n",
    "print(name[-1])\n",
    "print(name[1:])\n",
    "print(name[:-2])\n",
    "print(name[::2])\n",
    "print(name[::3])\n",
    "print(name[::-2])\n",
    "print(name[::-3])\n",
    "print(name[3::])\n",
    "print(name[3:])\n",
    "\n",
    "print(name[1:8:2])"
   ]
  },
  {
   "cell_type": "code",
   "execution_count": 9,
   "id": "b609b347",
   "metadata": {},
   "outputs": [
    {
     "name": "stdout",
     "output_type": "stream",
     "text": [
      "45\n",
      "50\n"
     ]
    }
   ],
   "source": [
    "a = input(\"Enter RC number:\") \n",
    "\n",
    "print(a)\n",
    "\n",
    "print (int(a) +5)"
   ]
  },
  {
   "cell_type": "code",
   "execution_count": 10,
   "id": "182cb147",
   "metadata": {},
   "outputs": [
    {
     "name": "stdout",
     "output_type": "stream",
     "text": [
      "30\n"
     ]
    }
   ],
   "source": [
    "a = input(\"Enter Age\")\n",
    "\n",
    "print(a)"
   ]
  },
  {
   "cell_type": "markdown",
   "id": "32ea528f",
   "metadata": {},
   "source": [
    "### Method Invocations\n",
    "\n",
    "Case Conversions"
   ]
  },
  {
   "cell_type": "markdown",
   "id": "dfabcd37",
   "metadata": {},
   "source": [
    "#### 1. upper()\n",
    "\n",
    "#### 2. lower()\n",
    "\n",
    "#### 3. title()\n",
    "\n",
    "#### 4. captalize()\n",
    "\n",
    "#### 5. swapcase()\n"
   ]
  },
  {
   "cell_type": "markdown",
   "id": "3c2e3723",
   "metadata": {},
   "source": [
    "## 1. upper()"
   ]
  },
  {
   "cell_type": "code",
   "execution_count": 12,
   "id": "9020abe9",
   "metadata": {},
   "outputs": [
    {
     "name": "stdout",
     "output_type": "stream",
     "text": [
      "ABDUL WAHEED\n"
     ]
    }
   ],
   "source": [
    "name = \"Abdul Waheed\"\n",
    "\n",
    "a = name.upper()\n",
    "\n",
    "print (a)"
   ]
  },
  {
   "cell_type": "markdown",
   "id": "d6e4a048",
   "metadata": {},
   "source": [
    "## 2. lower()"
   ]
  },
  {
   "cell_type": "code",
   "execution_count": 13,
   "id": "c839a622",
   "metadata": {},
   "outputs": [
    {
     "name": "stdout",
     "output_type": "stream",
     "text": [
      "abdul waheed\n"
     ]
    }
   ],
   "source": [
    "name = \"Abdul Waheed\"\n",
    "\n",
    "a = name.lower()\n",
    "\n",
    "print (a)"
   ]
  },
  {
   "cell_type": "markdown",
   "id": "a7751c5b",
   "metadata": {},
   "source": [
    "## 3. title()"
   ]
  },
  {
   "cell_type": "code",
   "execution_count": 14,
   "id": "04f42da0",
   "metadata": {},
   "outputs": [
    {
     "name": "stdout",
     "output_type": "stream",
     "text": [
      "Abdul Waheed\n"
     ]
    }
   ],
   "source": [
    "name = \"abdul waheed\"\n",
    "\n",
    "a = name.title()\n",
    "\n",
    "print(a)"
   ]
  },
  {
   "cell_type": "markdown",
   "id": "76bcc731",
   "metadata": {},
   "source": [
    "## 4. captalize()"
   ]
  },
  {
   "cell_type": "code",
   "execution_count": 15,
   "id": "a75984ca",
   "metadata": {},
   "outputs": [
    {
     "name": "stdout",
     "output_type": "stream",
     "text": [
      "Abdul waheed\n"
     ]
    }
   ],
   "source": [
    "name = \"Abdul Waheed\"\n",
    "\n",
    "a = name.capitalize()\n",
    "\n",
    "print (a)"
   ]
  },
  {
   "cell_type": "markdown",
   "id": "c83fce53",
   "metadata": {},
   "source": [
    "## 5. swapcase()"
   ]
  },
  {
   "cell_type": "code",
   "execution_count": 16,
   "id": "2e8c5b92",
   "metadata": {},
   "outputs": [
    {
     "name": "stdout",
     "output_type": "stream",
     "text": [
      "aBdUl WaHeEd\n"
     ]
    }
   ],
   "source": [
    "name = \"AbDuL wAhEeD\"\n",
    "\n",
    "a = name.swapcase()\n",
    "\n",
    "print(a)"
   ]
  }
 ],
 "metadata": {
  "kernelspec": {
   "display_name": ".venv",
   "language": "python",
   "name": "python3"
  },
  "language_info": {
   "codemirror_mode": {
    "name": "ipython",
    "version": 3
   },
   "file_extension": ".py",
   "mimetype": "text/x-python",
   "name": "python",
   "nbconvert_exporter": "python",
   "pygments_lexer": "ipython3",
   "version": "3.13.5"
  }
 },
 "nbformat": 4,
 "nbformat_minor": 5
}
