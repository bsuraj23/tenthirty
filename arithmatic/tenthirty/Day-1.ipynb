{
 "cells": [
  {
   "cell_type": "markdown",
   "id": "4b4e61da",
   "metadata": {},
   "source": [
    "Let's create student data"
   ]
  },
  {
   "cell_type": "code",
   "execution_count": 22,
   "id": "319f7e5f",
   "metadata": {},
   "outputs": [
    {
     "name": "stdout",
     "output_type": "stream",
     "text": [
      "Madhu 20 60.5 True\n"
     ]
    }
   ],
   "source": [
    "name = \"Madhu\"\n",
    "age = 20\n",
    "percentage = 60.5\n",
    "record_submission = True\n",
    "print (name, age, marks, record_submission)"
   ]
  },
  {
   "cell_type": "code",
   "execution_count": 23,
   "id": "e832eacc",
   "metadata": {},
   "outputs": [
    {
     "name": "stdout",
     "output_type": "stream",
     "text": [
      "Madhu's new percentage is 70.0\n"
     ]
    }
   ],
   "source": [
    "percentage = percentage + 9.5\n",
    "print(f\"{name}'s new percentage is {percentage}\")"
   ]
  },
  {
   "cell_type": "code",
   "execution_count": 24,
   "id": "8ccb275d",
   "metadata": {},
   "outputs": [
    {
     "name": "stdout",
     "output_type": "stream",
     "text": [
      " after 10 years Madhu's age will be 30 years\n"
     ]
    }
   ],
   "source": [
    "age = age + 10\n",
    "print (f\" after 10 years {name}'s age will be {age} years\")"
   ]
  },
  {
   "cell_type": "markdown",
   "id": "a25fc6a1",
   "metadata": {},
   "source": [
    "### Let's understand list's in Python:"
   ]
  },
  {
   "cell_type": "code",
   "execution_count": 25,
   "id": "9951cb20",
   "metadata": {},
   "outputs": [
    {
     "name": "stdout",
     "output_type": "stream",
     "text": [
      "['c', 'c++', 'java', 'python', 'javascript'] written by Madhu\n"
     ]
    }
   ],
   "source": [
    "records = [\"c\", \"c++\", \"java\", \"python\", \"javascript\"]\n",
    "print (f\"{records} written by {name}\")"
   ]
  },
  {
   "cell_type": "code",
   "execution_count": 26,
   "id": "60e6f6df",
   "metadata": {},
   "outputs": [
    {
     "name": "stdout",
     "output_type": "stream",
     "text": [
      "['c', 'c++', 'java', 'python', 'javascript', 'Azure IoT'] written by Madhu\n"
     ]
    }
   ],
   "source": [
    "records.append(\"Azure IoT\")\n",
    "print (f\"{records} written by {name}\")"
   ]
  },
  {
   "cell_type": "code",
   "execution_count": 27,
   "id": "eb3df565",
   "metadata": {},
   "outputs": [
    {
     "data": {
      "text/plain": [
       "'c++'"
      ]
     },
     "execution_count": 27,
     "metadata": {},
     "output_type": "execute_result"
    }
   ],
   "source": [
    "records[1]"
   ]
  },
  {
   "cell_type": "code",
   "execution_count": 29,
   "id": "25b1e027",
   "metadata": {},
   "outputs": [
    {
     "data": {
      "text/plain": [
       "['python', 'javascript']"
      ]
     },
     "execution_count": 29,
     "metadata": {},
     "output_type": "execute_result"
    }
   ],
   "source": [
    "records[3:5]"
   ]
  },
  {
   "cell_type": "code",
   "execution_count": 30,
   "id": "6437b4ef",
   "metadata": {},
   "outputs": [
    {
     "data": {
      "text/plain": [
       "'Azure IoT'"
      ]
     },
     "execution_count": 30,
     "metadata": {},
     "output_type": "execute_result"
    }
   ],
   "source": [
    "records[-1]"
   ]
  },
  {
   "cell_type": "code",
   "execution_count": 31,
   "id": "c0f39599",
   "metadata": {},
   "outputs": [
    {
     "data": {
      "text/plain": [
       "['python', 'javascript', 'Azure IoT']"
      ]
     },
     "execution_count": 31,
     "metadata": {},
     "output_type": "execute_result"
    }
   ],
   "source": [
    "records[-3:]"
   ]
  }
 ],
 "metadata": {
  "kernelspec": {
   "display_name": ".venv",
   "language": "python",
   "name": "python3"
  },
  "language_info": {
   "codemirror_mode": {
    "name": "ipython",
    "version": 3
   },
   "file_extension": ".py",
   "mimetype": "text/x-python",
   "name": "python",
   "nbconvert_exporter": "python",
   "pygments_lexer": "ipython3",
   "version": "3.13.5"
  }
 },
 "nbformat": 4,
 "nbformat_minor": 5
}
